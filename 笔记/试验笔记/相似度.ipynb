{
 "cells": [
  {
   "cell_type": "code",
   "execution_count": null,
   "id": "8c89dfdd",
   "metadata": {},
   "outputs": [],
   "source": [
    "import copy\n",
    "import random\n",
    "import re\n",
    "import sqlite3\n",
    "from dataclasses import dataclass, field\n",
    "from os import listdir, path\n",
    "from typing import List, Dict, Tuple\n",
    "import sys\n",
    "import pathlib\n",
    "import pprint\n",
    "import time\n",
    "\n",
    "start = time.time()\n",
    "from sentence_transformers import SentenceTransformer, util\n",
    "print(f\"importing sentence_transformers takes {time.time() - start}\")\n",
    "\n",
    "start = time.time()\n",
    "model = SentenceTransformer(\"./model_cache\")\n",
    "print(f\"loading model takes {time.time() - start}\")\n",
    "基础路径 = (pathlib.Path.cwd() / '..').resolve()\n",
    "\n",
    "def 读取文件(文件路径: str) -> list:\n",
    "    数据 = []\n",
    "    with open(文件路径, \"r\") as 文件:\n",
    "        原始数据 = 文件.readlines()\n",
    "        # 去掉多余的换行符\n",
    "        for 行 in 原始数据:\n",
    "            数据.append(行.strip())\n",
    "    return 数据\n",
    "\n",
    "事例库 = 读取文件(基础路径 / \"语料库\" / \"事例.txt\")"
   ]
  },
  {
   "cell_type": "code",
   "execution_count": null,
   "id": "7cdf1556",
   "metadata": {},
   "outputs": [],
   "source": [
    "model.save(\"./model_cache\")"
   ]
  },
  {
   "cell_type": "code",
   "execution_count": null,
   "id": "dc1a6518",
   "metadata": {},
   "outputs": [],
   "source": [
    "事例库"
   ]
  },
  {
   "cell_type": "code",
   "execution_count": null,
   "id": "34fa40cd",
   "metadata": {},
   "outputs": [],
   "source": [
    "事例特征向量 = {}\n",
    "for 事例 in 事例库:\n",
    "    事例特征向量[事例] = model.encode(事例)"
   ]
  },
  {
   "cell_type": "code",
   "execution_count": null,
   "id": "c8fee31f",
   "metadata": {},
   "outputs": [],
   "source": [
    "事例特征向量"
   ]
  },
  {
   "cell_type": "code",
   "execution_count": null,
   "id": "290520a0",
   "metadata": {},
   "outputs": [],
   "source": [
    "主题谓语 = \"默默无闻\"\n",
    "主题宾语 = \"\""
   ]
  },
  {
   "cell_type": "code",
   "execution_count": null,
   "id": "dd0d2db4",
   "metadata": {},
   "outputs": [],
   "source": [
    "主题词特征向量 = model.encode(主题谓语 + 主题宾语)\n",
    "事例相似度: List[Tuple] = []\n",
    "for 事例, 特征向量 in 事例特征向量.items():\n",
    "    相似度 = util.cos_sim(主题词特征向量, 特征向量)\n",
    "    事例相似度.append((事例, 相似度))\n",
    "事例相似度 = sorted(事例相似度, key=lambda x: x[1], reverse=True)\n",
    "for item in 事例相似度:\n",
    "    print(f\"{item[1].numpy()[0][0]:.2f} --> {item[0]}\")"
   ]
  },
  {
   "cell_type": "code",
   "execution_count": null,
   "id": "33e783ad",
   "metadata": {},
   "outputs": [],
   "source": [
    "事例特征向量 = {}\n",
    "for 事例 in 事例库:\n",
    "    事例 = 事例.replace(\"「主题谓语」「主题宾语」\", \"\")\n",
    "    事例特征向量[事例] = model.encode(事例)\n",
    "事例特征向量"
   ]
  },
  {
   "cell_type": "code",
   "execution_count": null,
   "id": "ff6a27c6",
   "metadata": {},
   "outputs": [],
   "source": [
    "主题词特征向量 = model.encode(主题谓语 + 主题宾语)\n",
    "事例相似度: List[Tuple] = []\n",
    "for 事例, 特征向量 in 事例特征向量.items():\n",
    "    相似度 = util.cos_sim(主题词特征向量, 特征向量)\n",
    "    事例相似度.append((事例, 相似度))\n",
    "事例相似度 = sorted(事例相似度, key=lambda x: x[1], reverse=True)\n",
    "for item in 事例相似度:\n",
    "    print(f\"{item[1].numpy()[0][0]:.2f} --> {item[0]}\")"
   ]
  },
  {
   "cell_type": "code",
   "execution_count": null,
   "id": "7c30c25d",
   "metadata": {},
   "outputs": [],
   "source": []
  }
 ],
 "metadata": {
  "kernelspec": {
   "display_name": "Python 3 (ipykernel)",
   "language": "python",
   "name": "python3"
  },
  "language_info": {
   "codemirror_mode": {
    "name": "ipython",
    "version": 3
   },
   "file_extension": ".py",
   "mimetype": "text/x-python",
   "name": "python",
   "nbconvert_exporter": "python",
   "pygments_lexer": "ipython3",
   "version": "3.8.10"
  }
 },
 "nbformat": 4,
 "nbformat_minor": 5
}
